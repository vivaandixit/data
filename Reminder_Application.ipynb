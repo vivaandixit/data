{
  "nbformat": 4,
  "nbformat_minor": 0,
  "metadata": {
    "colab": {
      "provenance": [],
      "authorship_tag": "ABX9TyMFhyjPk5kKYz4r4CF3QhpL",
      "include_colab_link": true
    },
    "kernelspec": {
      "name": "python3",
      "display_name": "Python 3"
    },
    "language_info": {
      "name": "python"
    }
  },
  "cells": [
    {
      "cell_type": "markdown",
      "metadata": {
        "id": "view-in-github",
        "colab_type": "text"
      },
      "source": [
        "<a href=\"https://colab.research.google.com/github/vivaandixit/data/blob/master/Reminder_Application.ipynb\" target=\"_parent\"><img src=\"https://colab.research.google.com/assets/colab-badge.svg\" alt=\"Open In Colab\"/></a>"
      ]
    },
    {
      "cell_type": "code",
      "execution_count": 40,
      "metadata": {
        "id": "-kMaZUI0qjZY"
      },
      "outputs": [],
      "source": [
        "import time\n",
        "from datetime import datetime\n",
        "import pytz\n",
        "import array as arr"
      ]
    },
    {
      "cell_type": "code",
      "source": [
        "reminder = float(input())\n",
        "\n"
      ],
      "metadata": {
        "colab": {
          "base_uri": "https://localhost:8080/"
        },
        "id": "XKZre1zAbFmw",
        "outputId": "c3e92d8a-7787-4aed-9864-7f9f94a20629"
      },
      "execution_count": 61,
      "outputs": [
        {
          "name": "stdout",
          "output_type": "stream",
          "text": [
            "2020\n"
          ]
        }
      ]
    },
    {
      "cell_type": "code",
      "source": [
        "IST = pytz.timezone('Asia/Kolkata')\n",
        "current_time1 = datetime.now(IST)\n",
        "\n",
        "hrs=current_time1.hour\n",
        "\n",
        "final=hrs*100\n",
        "mins=current_time1.minute\n",
        "current_time=final+mins\n",
        "print(current_time)\n"
      ],
      "metadata": {
        "colab": {
          "base_uri": "https://localhost:8080/"
        },
        "id": "pG1MR1bXdj82",
        "outputId": "5c4b88bf-9ef8-49c2-eb43-590c99a3cf68"
      },
      "execution_count": 132,
      "outputs": [
        {
          "output_type": "stream",
          "name": "stdout",
          "text": [
            "2151\n"
          ]
        }
      ]
    },
    {
      "cell_type": "code",
      "source": [
        "list = []\n",
        "n = int(input(\"Enter the number of tasks:\"))\n",
        "\n",
        "for i in range(1,n+1):\n",
        "  print(\"Please Entire Your Task:\")\n",
        "  ele=str(input())\n",
        "  list.append(ele)\n",
        "\n",
        "print(list)\n",
        "\n"
      ],
      "metadata": {
        "colab": {
          "base_uri": "https://localhost:8080/"
        },
        "id": "fG1xADkHj5bt",
        "outputId": "fe6bb4af-2db8-4df2-80e7-48eabb8867df"
      },
      "execution_count": 129,
      "outputs": [
        {
          "output_type": "stream",
          "name": "stdout",
          "text": [
            "Enter the number of tasks:3\n",
            "Please Entire Your Task:\n",
            "Study\n",
            "Please Entire Your Task:\n",
            "Sleep\n",
            "Please Entire Your Task:\n",
            "Game\n",
            "['Study', 'Sleep', 'Game']\n"
          ]
        }
      ]
    },
    {
      "cell_type": "code",
      "source": [
        "time_list = []\n",
        "m = int(input(\"Enter the number of tasks:\"))\n",
        "\n",
        "for i in range(1,m+1):\n",
        "  print(\"Please Enter the Reminder Time for your Task\")\n",
        "  bla= int(input())\n",
        "  time_list.append(bla)\n",
        "\n",
        "\n",
        "\n"
      ],
      "metadata": {
        "colab": {
          "base_uri": "https://localhost:8080/"
        },
        "id": "6MLvvHT7o3QQ",
        "outputId": "2fbdeb4a-9f15-41dd-e852-85500012112b"
      },
      "execution_count": 135,
      "outputs": [
        {
          "name": "stdout",
          "output_type": "stream",
          "text": [
            "Enter the number of tasks:3\n",
            "Please Enter the Reminder Time for your Task\n",
            "2156\n",
            "Please Enter the Reminder Time for your Task\n",
            "2157\n",
            "Please Enter the Reminder Time for your Task\n",
            "2158\n"
          ]
        }
      ]
    },
    {
      "cell_type": "code",
      "source": [
        "time_list2 = []\n",
        "\n",
        "for i in time_list:\n",
        "  time_list2.append(i - current_time)\n",
        "\n",
        "print(time_list2)"
      ],
      "metadata": {
        "colab": {
          "base_uri": "https://localhost:8080/"
        },
        "id": "AShy-GMJv-09",
        "outputId": "1b1d4077-5711-4f69-ba5c-23b139a1b385"
      },
      "execution_count": 136,
      "outputs": [
        {
          "output_type": "stream",
          "name": "stdout",
          "text": [
            "[5, 6, 7]\n"
          ]
        }
      ]
    },
    {
      "cell_type": "code",
      "source": [
        "for i in range(0,len(time_list2)):\n",
        "  time.sleep(time_list2[i])\n",
        "  print(\"There is a reminder for your task:\",list[i],\"At Time\", time_list[i])\n",
        "\n"
      ],
      "metadata": {
        "colab": {
          "base_uri": "https://localhost:8080/"
        },
        "id": "-Ueh9QMTz6-O",
        "outputId": "9a0eb1e5-80b0-4b4c-f7d3-fe298092e6ff"
      },
      "execution_count": 138,
      "outputs": [
        {
          "output_type": "stream",
          "name": "stdout",
          "text": [
            "There is a reminder for your task: Study At Time 2156\n",
            "There is a reminder for your task: Sleep At Time 2157\n",
            "There is a reminder for your task: Game At Time 2158\n"
          ]
        }
      ]
    }
  ]
}